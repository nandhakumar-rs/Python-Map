{
 "cells": [
  {
   "cell_type": "code",
   "execution_count": 1,
   "metadata": {
    "collapsed": true
   },
   "outputs": [],
   "source": [
    "import folium,pandas\n",
    "ds = pandas.read_csv(\"colleges.csv\")\n",
    "latitude = ds['latitude'].mean()\n",
    "longitude = ds['longitude'].mean()\n",
    "Ma=folium.Map(location=[latitude,longitude],zoom_start=5, tiles='Stamen Terrain') \n",
    "fg = folium.FeatureGroup(name = 'colleges')\n",
    "for name,lat,log in zip(ds['Name'],ds['latitude'],ds['longitude']):\n",
    "    fg.add_child(folium.Marker([lat,log], popup=name,icon=folium.Icon(color='green'))) \n",
    "Ma.add_child(fg)\n",
    "Ma.add_child(folium.LayerControl())    \n",
    "Ma.save('college.html')     "
   ]
  },
  {
   "cell_type": "code",
   "execution_count": null,
   "metadata": {
    "collapsed": true
   },
   "outputs": [],
   "source": []
  }
 ],
 "metadata": {
  "kernelspec": {
   "display_name": "Python 3",
   "language": "python",
   "name": "python3"
  },
  "language_info": {
   "codemirror_mode": {
    "name": "ipython",
    "version": 3
   },
   "file_extension": ".py",
   "mimetype": "text/x-python",
   "name": "python",
   "nbconvert_exporter": "python",
   "pygments_lexer": "ipython3",
   "version": "3.6.1"
  }
 },
 "nbformat": 4,
 "nbformat_minor": 2
}
